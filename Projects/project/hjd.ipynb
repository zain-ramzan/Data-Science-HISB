{
 "cells": [
  {
   "cell_type": "code",
   "execution_count": 11,
   "metadata": {},
   "outputs": [],
   "source": [
    "import tkinter as tk\n",
    "from tkinter import filedialog\n",
    "from tkinter import messagebox\n",
    "from PIL import Image, ImageTk\n",
    "import numpy as np\n",
    "import tensorflow as tf\n",
    "\n",
    "#model = tf.keras.load_model('annmodel.h5')\n",
    "\n",
    "root = tk.Tk()\n",
    "root.title('ishaq')\n",
    "\n",
    "\n",
    "# def classify_image():\n",
    "#     file_path = filedialog.askopenfilename(filetypes=[(\"Image files\",\"*.jpg *,jpeg\")])\n",
    "#     if file_path:\n",
    "#         image = Image.open(file_path).convert(\"L\").resize((28,28))\n",
    "#         image_array = np.array(image) /255.0\n",
    "#         image_array = image_array.reshape(784)\n",
    "#         prediction = model.predict(np.array([image_array]))\n",
    "#         predicted_digit = np.argmax(prediction)\n",
    "\n",
    "\n",
    "#         image_label.config(image=ImageTk.PhotoImage(image))\n",
    "#         result_label.config(text=f'Predicted Digit:{predicted_digit}')\n",
    "\n",
    "open_button = tk.Button(root)\n",
    "# open_button = tk.Button(root, test=\"Open Image\", command=classify_image)\n",
    "image_label = tk.Label(root)\n",
    "# result_label = tk.Label(root, test=\"Predicted Digit:  \")\n",
    "result_label = tk.Label(root)\n",
    "\n",
    "open_button.pack(pady=10)\n",
    "image_label.pack()\n",
    "result_label.pack()\n",
    "\n",
    "\n",
    "root.mainloop()"
   ]
  },
  {
   "cell_type": "code",
   "execution_count": null,
   "metadata": {},
   "outputs": [],
   "source": []
  }
 ],
 "metadata": {
  "kernelspec": {
   "display_name": "base",
   "language": "python",
   "name": "python3"
  },
  "language_info": {
   "codemirror_mode": {
    "name": "ipython",
    "version": 3
   },
   "file_extension": ".py",
   "mimetype": "text/x-python",
   "name": "python",
   "nbconvert_exporter": "python",
   "pygments_lexer": "ipython3",
   "version": "3.11.4"
  },
  "orig_nbformat": 4
 },
 "nbformat": 4,
 "nbformat_minor": 2
}
