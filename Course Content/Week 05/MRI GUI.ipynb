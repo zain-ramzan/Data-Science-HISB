{
 "cells": [
  {
   "cell_type": "code",
   "execution_count": 8,
   "id": "3df8dbd2",
   "metadata": {},
   "outputs": [
    {
     "name": "stdout",
     "output_type": "stream",
     "text": [
      "WARNING:tensorflow:5 out of the last 5 calls to <function Model.make_predict_function.<locals>.predict_function at 0x0000025A9F0C9760> triggered tf.function retracing. Tracing is expensive and the excessive number of tracings could be due to (1) creating @tf.function repeatedly in a loop, (2) passing tensors with different shapes, (3) passing Python objects instead of tensors. For (1), please define your @tf.function outside of the loop. For (2), @tf.function has reduce_retracing=True option that can avoid unnecessary retracing. For (3), please refer to https://www.tensorflow.org/guide/function#controlling_retracing and https://www.tensorflow.org/api_docs/python/tf/function for  more details.\n",
      "1/1 [==============================] - 0s 148ms/step\n"
     ]
    }
   ],
   "source": [
    "import tkinter as tk\n",
    "from tkinter import filedialog\n",
    "from tkinter import messagebox\n",
    "from PIL import Image, ImageTk\n",
    "import numpy as np\n",
    "import tensorflow as tf\n",
    "from tensorflow.keras.models import load_model\n",
    "\n",
    "model = load_model('./zain_model.h5')\n",
    "\n",
    "root = tk.Tk()\n",
    "root.title('Graphic User Interface')\n",
    "\n",
    "# # Set up the background image\n",
    "# background_image = Image.open(\"ML.jpg\")  # Replace with the path to your background image\n",
    "# background_photo = ImageTk.PhotoImage(background_image)\n",
    "# background_label = tk.Label(root, image=background_photo)\n",
    "# background_label.place(x=0, y=0, relwidth=1, relheight=1)\n",
    "\n",
    "def classify_image():\n",
    "    file_path = filedialog.askopenfilename(filetypes=[(\"Image files\", \"*.jpg;*.jpeg\")])\n",
    "\n",
    "    if file_path:\n",
    "        image = Image.open(file_path).convert(\"RGB\").resize((250, 250))\n",
    "        image_array = np.array(image)\n",
    "        prediction = model.predict(np.array([image_array]))\n",
    "        predicted_digit = np.argmax(prediction)\n",
    "        \n",
    "        if predicted_digit == 0:\n",
    "            predicted_class = \"Glioma Tumor\"\n",
    "        elif predicted_digit == 1:\n",
    "            predicted_class = \"Meningioma Tumor\"\n",
    "        elif predicted_digit == 2:\n",
    "            predicted_class = \"No Tumor\"\n",
    "        elif predicted_digit == 3:\n",
    "            predicted_class = \"Piyuitary Tumor\"\n",
    "        \n",
    "        image_label.image = ImageTk.PhotoImage(image)  # Store the image reference\n",
    "        image_label.config(image=image_label.image)   # Update the label's image\n",
    "        result_label.config(text=f'Tumor Type: {predicted_class}')\n",
    "\n",
    "open_button = tk.Button(root, text=\"Open Image\", command=classify_image)\n",
    "image_label = tk.Label(root)\n",
    "result_label = tk.Label(root, text=\"Tumor Type: \", bg='white', width=20, pady = 15)\n",
    "\n",
    "open_button.pack(pady=10)\n",
    "image_label.pack()\n",
    "result_label.pack()\n",
    "\n",
    "root.mainloop()"
   ]
  },
  {
   "cell_type": "code",
   "execution_count": null,
   "id": "01f56a54",
   "metadata": {},
   "outputs": [],
   "source": []
  }
 ],
 "metadata": {
  "kernelspec": {
   "display_name": "Python 3 (ipykernel)",
   "language": "python",
   "name": "python3"
  },
  "language_info": {
   "codemirror_mode": {
    "name": "ipython",
    "version": 3
   },
   "file_extension": ".py",
   "mimetype": "text/x-python",
   "name": "python",
   "nbconvert_exporter": "python",
   "pygments_lexer": "ipython3",
   "version": "3.11.4"
  }
 },
 "nbformat": 4,
 "nbformat_minor": 5
}
