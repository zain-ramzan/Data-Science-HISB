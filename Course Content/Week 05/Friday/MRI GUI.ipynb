{
 "cells": [
  {
   "cell_type": "code",
   "execution_count": 9,
   "id": "00bbe3f4",
   "metadata": {},
   "outputs": [
    {
     "name": "stdout",
     "output_type": "stream",
     "text": [
      "1/1 [==============================] - 0s 200ms/step\n",
      "1/1 [==============================] - 0s 60ms/step\n",
      "1/1 [==============================] - 0s 59ms/step\n"
     ]
    }
   ],
   "source": [
    "import tkinter as tk\n",
    "from tkinter import filedialog\n",
    "from PIL import Image, ImageTk\n",
    "import numpy as np\n",
    "from tensorflow.keras.models import load_model\n",
    "\n",
    "model = load_model('./zain_model.h5')\n",
    "\n",
    "root = tk.Tk()\n",
    "root.title('Tumor Classifier')\n",
    "\n",
    "canvas = tk.Canvas(root)\n",
    "canvas.pack(side=\"left\", fill=\"both\", expand=True)\n",
    "\n",
    "scrollbar = tk.Scrollbar(root, command=canvas.yview)\n",
    "scrollbar.pack(side=\"right\", fill=\"y\")\n",
    "\n",
    "canvas.configure(yscrollcommand=scrollbar.set)\n",
    "\n",
    "content_frame = tk.Frame(canvas)\n",
    "canvas.create_window((0, 0), window=content_frame, anchor=\"nw\")\n",
    "\n",
    "image_labels = []\n",
    "result_labels = []\n",
    "open_buttons = []\n",
    "\n",
    "def classify_image(button_index):\n",
    "    file_path = filedialog.askopenfilename(filetypes=[(\"Image files\", \"*.jpg;*.jpeg\")])\n",
    "\n",
    "    if file_path:\n",
    "        image = Image.open(file_path).convert(\"RGB\")\n",
    "        image = image.resize((250, 250))  # Resize the image\n",
    "        image_array = np.array(image)\n",
    "        prediction = model.predict(np.array([image_array]))\n",
    "        predicted_digit = np.argmax(prediction)\n",
    "        \n",
    "        if predicted_digit == 0:\n",
    "            predicted_class = \"Glioma Tumor\"\n",
    "        elif predicted_digit == 1:\n",
    "            predicted_class = \"Meningioma Tumor\"\n",
    "        elif predicted_digit == 2:\n",
    "            predicted_class = \"No Tumor\"\n",
    "        elif predicted_digit == 3:\n",
    "            predicted_class = \"Pituitary Tumor\"\n",
    "        \n",
    "        image_labels[button_index].image = ImageTk.PhotoImage(image)  \n",
    "        image_labels[button_index].config(image=image_labels[button_index].image)  \n",
    "        result_labels[button_index].config(text=f'Tumor Type: {predicted_class}')\n",
    "\n",
    "num_columns = 4\n",
    "for i in range(10):\n",
    "    frame = tk.Frame(content_frame, padx=10, pady=10, bg='white')\n",
    "    \n",
    "    open_button = tk.Button(frame, text=f\"Open Image {i+1}\", command=lambda idx=i: classify_image(idx), padx=10, pady=5, bg='#4CAF50', fg='white')\n",
    "    open_buttons.append(open_button)\n",
    "    \n",
    "    image_label = tk.Label(frame)\n",
    "    image_labels.append(image_label)\n",
    "    \n",
    "    result_label = tk.Label(frame, text=\"Tumor Type: \", bg='white')\n",
    "    result_labels.append(result_label)\n",
    "    \n",
    "    column = i % num_columns\n",
    "    row = i // num_columns\n",
    "    frame.grid(row=row, column=column, padx=10, pady=10, sticky=\"nsew\")\n",
    "    open_button.pack(fill=tk.X)\n",
    "    image_label.pack()\n",
    "    result_label.pack()\n",
    "\n",
    "content_frame.update_idletasks()\n",
    "canvas.config(scrollregion=canvas.bbox(\"all\"))\n",
    "\n",
    "root.mainloop()\n"
   ]
  },
  {
   "cell_type": "code",
   "execution_count": null,
   "id": "ae9efd97",
   "metadata": {},
   "outputs": [],
   "source": []
  }
 ],
 "metadata": {
  "kernelspec": {
   "display_name": "Python 3 (ipykernel)",
   "language": "python",
   "name": "python3"
  },
  "language_info": {
   "codemirror_mode": {
    "name": "ipython",
    "version": 3
   },
   "file_extension": ".py",
   "mimetype": "text/x-python",
   "name": "python",
   "nbconvert_exporter": "python",
   "pygments_lexer": "ipython3",
   "version": "3.11.4"
  }
 },
 "nbformat": 4,
 "nbformat_minor": 5
}
