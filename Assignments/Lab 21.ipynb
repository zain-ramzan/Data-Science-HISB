{
 "cells": [
  {
   "cell_type": "markdown",
   "metadata": {},
   "source": [
    "# Lab 21 - Zain Ramzan"
   ]
  },
  {
   "cell_type": "markdown",
   "metadata": {},
   "source": [
    "1. For a given problem you have numpy array of observation which is 1x3 vector and codes which 3x3 matrix. Calculate difference between code and observation, take its square and calculate its sum across axis 1 and take square root of those results:\n"
   ]
  },
  {
   "cell_type": "code",
   "execution_count": 1,
   "metadata": {},
   "outputs": [
    {
     "name": "stdout",
     "output_type": "stream",
     "text": [
      "[ 5.19615242 10.39230485 15.58845727]\n"
     ]
    }
   ],
   "source": [
    "import numpy as np\n",
    "\n",
    "observation = np.array([1, 2, 3])\n",
    "codes = np.array([[4, 5, 6], [7, 8, 9], [10, 11, 12]])\n",
    "difference = codes - observation\n",
    "squared_difference = difference ** 2\n",
    "sum_squared_difference = np.sum(squared_difference, axis=1)\n",
    "result = np.sqrt(sum_squared_difference)\n",
    "print(result)\n"
   ]
  },
  {
   "cell_type": "code",
   "execution_count": null,
   "metadata": {},
   "outputs": [],
   "source": []
  }
 ],
 "metadata": {
  "kernelspec": {
   "display_name": "base",
   "language": "python",
   "name": "python3"
  },
  "language_info": {
   "codemirror_mode": {
    "name": "ipython",
    "version": 3
   },
   "file_extension": ".py",
   "mimetype": "text/x-python",
   "name": "python",
   "nbconvert_exporter": "python",
   "pygments_lexer": "ipython3",
   "version": "3.11.4"
  },
  "orig_nbformat": 4
 },
 "nbformat": 4,
 "nbformat_minor": 2
}
