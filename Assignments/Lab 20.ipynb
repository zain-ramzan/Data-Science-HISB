{
 "cells": [
  {
   "cell_type": "markdown",
   "metadata": {},
   "source": [
    "# Lab 20 - Zain Ramzan"
   ]
  },
  {
   "cell_type": "markdown",
   "metadata": {},
   "source": [
    "1. Find the dot product of two arrays of different dimensions. (Hint: Use matrix multiplication rule):\n"
   ]
  },
  {
   "cell_type": "code",
   "execution_count": 1,
   "metadata": {},
   "outputs": [
    {
     "name": "stdout",
     "output_type": "stream",
     "text": [
      "[32]\n"
     ]
    }
   ],
   "source": [
    "import numpy as np\n",
    "\n",
    "a = np.array([1, 2, 3])\n",
    "b = np.array([[4], [5], [6]])\n",
    "dot_product = np.dot(a, b)\n",
    "print(dot_product)\n"
   ]
  },
  {
   "cell_type": "markdown",
   "metadata": {},
   "source": [
    "2. Stack two square matrix of 3 dimension vertically and horizontally:\n"
   ]
  },
  {
   "cell_type": "code",
   "execution_count": 2,
   "metadata": {},
   "outputs": [
    {
     "name": "stdout",
     "output_type": "stream",
     "text": [
      "[[ 1  2  3]\n",
      " [ 4  5  6]\n",
      " [ 7  8  9]\n",
      " [10 11 12]\n",
      " [13 14 15]\n",
      " [16 17 18]]\n",
      "[[ 1  2  3 10 11 12]\n",
      " [ 4  5  6 13 14 15]\n",
      " [ 7  8  9 16 17 18]]\n"
     ]
    }
   ],
   "source": [
    "import numpy as np\n",
    "\n",
    "a = np.array([[1, 2, 3], [4, 5, 6], [7, 8, 9]])\n",
    "b = np.array([[10, 11, 12], [13, 14, 15], [16, 17, 18]])\n",
    "vertical_stack = np.vstack((a, b))\n",
    "horizontal_stack = np.hstack((a, b))\n",
    "print(vertical_stack)\n",
    "print(horizontal_stack)\n"
   ]
  },
  {
   "cell_type": "markdown",
   "metadata": {},
   "source": [
    "3. Take sum of rows in 5x4 matrix which is generated randomly:\n"
   ]
  },
  {
   "cell_type": "code",
   "execution_count": 3,
   "metadata": {},
   "outputs": [
    {
     "name": "stdout",
     "output_type": "stream",
     "text": [
      "[3.35519447 2.39343455 2.42072468 2.09247723 2.7265038 ]\n"
     ]
    }
   ],
   "source": [
    "import numpy as np\n",
    "\n",
    "matrix = np.random.rand(5, 4)\n",
    "row_sum = np.sum(matrix, axis=1)\n",
    "print(row_sum)\n"
   ]
  },
  {
   "cell_type": "markdown",
   "metadata": {},
   "source": [
    "4. Take mean of each row and subtract it from respective column of random integer matrix of 4x4:\n"
   ]
  },
  {
   "cell_type": "code",
   "execution_count": 4,
   "metadata": {},
   "outputs": [
    {
     "name": "stdout",
     "output_type": "stream",
     "text": [
      "[[ 4.   -1.   -4.    1.  ]\n",
      " [-2.   -2.   -2.    6.  ]\n",
      " [ 1.75 -2.25 -2.25  2.75]\n",
      " [ 2.5   0.5   1.5  -4.5 ]]\n"
     ]
    }
   ],
   "source": [
    "import numpy as np\n",
    "\n",
    "matrix = np.random.randint(0, 10, (4, 4))\n",
    "row_mean = np.mean(matrix, axis=1)\n",
    "result = matrix - row_mean.reshape(-1, 1)\n",
    "print(result)\n"
   ]
  },
  {
   "cell_type": "markdown",
   "metadata": {},
   "source": [
    "5. Compute euclidean distance between two numpy arrays:\n"
   ]
  },
  {
   "cell_type": "code",
   "execution_count": 5,
   "metadata": {},
   "outputs": [
    {
     "name": "stdout",
     "output_type": "stream",
     "text": [
      "5.196152422706632\n"
     ]
    }
   ],
   "source": [
    "import numpy as np\n",
    "\n",
    "a = np.array([1, 2, 3])\n",
    "b = np.array([4, 5, 6])\n",
    "distance = np.linalg.norm(a - b)\n",
    "print(distance)\n"
   ]
  },
  {
   "cell_type": "markdown",
   "metadata": {},
   "source": [
    "6. Normalise matrix of 5x5 row-wise and column-wise:\n"
   ]
  },
  {
   "cell_type": "code",
   "execution_count": 6,
   "metadata": {},
   "outputs": [
    {
     "name": "stdout",
     "output_type": "stream",
     "text": [
      "[[0.37805254 0.49392931 0.44629877 0.64336276 0.00344801]\n",
      " [0.55221277 0.34675148 0.56426503 0.07979142 0.50006276]\n",
      " [0.61858029 0.70701632 0.14266127 0.2348302  0.20491192]\n",
      " [0.3835865  0.45445095 0.64508651 0.46537378 0.11673206]\n",
      " [0.67711626 0.14828708 0.01945888 0.49343196 0.52504359]]\n",
      "[[0.36360775 0.53011503 0.51394353 0.72719349 0.00530584]\n",
      " [0.46366224 0.3248912  0.56726653 0.07873441 0.67177458]\n",
      " [0.51182157 0.65279422 0.14133097 0.22834397 0.27126484]\n",
      " [0.3116349  0.41199708 0.62749385 0.44432196 0.15173183]\n",
      " [0.54196781 0.13244572 0.01864819 0.46414173 0.67237163]]\n"
     ]
    }
   ],
   "source": [
    "import numpy as np\n",
    "\n",
    "matrix = np.random.rand(5, 5)\n",
    "row_norm = np.linalg.norm(matrix, axis=1)\n",
    "column_norm = np.linalg.norm(matrix, axis=0)\n",
    "row_normalised = matrix / row_norm.reshape(-1, 1)\n",
    "column_normalised = matrix / column_norm.reshape(1, -1)\n",
    "print(row_normalised)\n",
    "print(column_normalised)\n"
   ]
  },
  {
   "cell_type": "markdown",
   "metadata": {},
   "source": [
    "7. Program that generates random integer matrix of size 6x6 start value from 5 and stop value of 10 and replaces minimum value with zero and maximum value with 10:\n"
   ]
  },
  {
   "cell_type": "code",
   "execution_count": 7,
   "metadata": {},
   "outputs": [
    {
     "name": "stdout",
     "output_type": "stream",
     "text": [
      "[[10  6  6  6  6  6]\n",
      " [ 0  7  6  8  0  7]\n",
      " [ 7  6  7  8  6 10]\n",
      " [ 0 10  8  9  7  0]\n",
      " [ 7  7  7  8  9  9]\n",
      " [ 0  6  8  6  8  9]]\n"
     ]
    }
   ],
   "source": [
    "import numpy as np\n",
    "\n",
    "matrix = np.random.randint(5, 11, (6, 6))\n",
    "min_value = np.min(matrix)\n",
    "max_value = np.max(matrix)\n",
    "matrix[matrix == min_value] = 0\n",
    "matrix[matrix == max_value] = 10\n",
    "print(matrix)\n"
   ]
  },
  {
   "cell_type": "markdown",
   "metadata": {},
   "source": [
    "8. Using genfromtxt() from numpy library get IRIS dataset which is in csv format https://archive.ics.uci.edu/ml/machine-learning-databases/iris/iris.data Calculate mean, median and standard deviation of first column. Last column consists of different species name. Find unique values in last column and their count:\n"
   ]
  },
  {
   "cell_type": "code",
   "execution_count": 9,
   "metadata": {},
   "outputs": [
    {
     "ename": "SyntaxError",
     "evalue": "incomplete input (3297001814.py, line 10)",
     "output_type": "error",
     "traceback": [
      "\u001b[1;36m  Cell \u001b[1;32mIn[9], line 10\u001b[1;36m\u001b[0m\n\u001b[1;33m    print(\"Standard deviation:\"\u001b[0m\n\u001b[1;37m                               ^\u001b[0m\n\u001b[1;31mSyntaxError\u001b[0m\u001b[1;31m:\u001b[0m incomplete input\n"
     ]
    }
   ],
   "source": [
    "import numpy as np\n",
    "\n",
    "data = np.genfromtxt(\"https://archive.ics.uci.edu/ml/machine-learning-databases/iris/iris.data\", delimiter=\",\", usecols=(0, 4))\n",
    "mean = np.mean(data[:, 0])\n",
    "median = np.median(data[:, 0])\n",
    "std = np.std(data[:, 0])\n",
    "species, count = np.unique(data[:, 1], return_counts=True)\n",
    "print(\"Mean:\", mean)\n",
    "print(\"Median:\", median)\n",
    "print(\"Standard deviation:\"\n"
   ]
  }
 ],
 "metadata": {
  "kernelspec": {
   "display_name": "base",
   "language": "python",
   "name": "python3"
  },
  "language_info": {
   "codemirror_mode": {
    "name": "ipython",
    "version": 3
   },
   "file_extension": ".py",
   "mimetype": "text/x-python",
   "name": "python",
   "nbconvert_exporter": "python",
   "pygments_lexer": "ipython3",
   "version": "3.11.4"
  },
  "orig_nbformat": 4
 },
 "nbformat": 4,
 "nbformat_minor": 2
}
