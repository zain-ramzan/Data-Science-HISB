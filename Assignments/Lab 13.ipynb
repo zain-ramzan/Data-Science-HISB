{
 "cells": [
  {
   "cell_type": "code",
   "execution_count": 1,
   "metadata": {},
   "outputs": [
    {
     "name": "stdout",
     "output_type": "stream",
     "text": [
      "!\n",
      "n\n",
      "u\n",
      "f\n",
      " \n",
      "s\n",
      "i\n",
      " \n",
      "n\n",
      "o\n",
      "h\n",
      "t\n",
      "y\n",
      "P\n"
     ]
    }
   ],
   "source": [
    "# Task 1\n",
    "input_string = \"Python is fun!\"\n",
    "index = len(input_string) - 1\n",
    "\n",
    "while index >= 0:\n",
    "    print(input_string[index])\n",
    "    index -= 1"
   ]
  },
  {
   "cell_type": "code",
   "execution_count": 3,
   "metadata": {},
   "outputs": [
    {
     "name": "stdout",
     "output_type": "stream",
     "text": [
      "Invalid input. Please enter a number or 'done'.\n",
      "Invalid input. Please enter a number or 'done'.\n",
      "Invalid input. Please enter a number or 'done'.\n",
      "Invalid input. Please enter a number or 'done'.\n",
      "Invalid input. Please enter a number or 'done'.\n",
      "No valid numbers were entered.\n"
     ]
    }
   ],
   "source": [
    "# Task 2\n",
    "total = 0\n",
    "count = 0\n",
    "\n",
    "while True:\n",
    "    user_input = input(\"Enter a number or 'done' to finish: \")\n",
    "\n",
    "    if user_input.lower() == \"done\":\n",
    "        break\n",
    "\n",
    "    try:\n",
    "        number = float(user_input)\n",
    "        total += number\n",
    "        count += 1\n",
    "    except ValueError:\n",
    "        print(\"Invalid input. Please enter a number or 'done'.\")\n",
    "\n",
    "if count > 0:\n",
    "    average = total / count\n",
    "    print(\"Total:\", total)\n",
    "    print(\"Count:\", count)\n",
    "    print(\"Average:\", average)\n",
    "else:\n",
    "    print(\"No valid numbers were entered.\")"
   ]
  },
  {
   "cell_type": "code",
   "execution_count": 4,
   "metadata": {},
   "outputs": [
    {
     "name": "stdout",
     "output_type": "stream",
     "text": [
      "Sum of all entered numbers: 0\n"
     ]
    }
   ],
   "source": [
    "# Task 3\n",
    "sum_of_numbers = 0\n",
    "\n",
    "while True:\n",
    "    user_input = float(input(\"Enter a number (enter a negative number or zero to stop): \"))\n",
    "\n",
    "    if user_input <= 0:\n",
    "        break\n",
    "\n",
    "    sum_of_numbers += user_input\n",
    "\n",
    "print(\"Sum of all entered numbers:\", sum_of_numbers)\n"
   ]
  },
  {
   "cell_type": "code",
   "execution_count": null,
   "metadata": {},
   "outputs": [],
   "source": []
  }
 ],
 "metadata": {
  "kernelspec": {
   "display_name": "base",
   "language": "python",
   "name": "python3"
  },
  "language_info": {
   "codemirror_mode": {
    "name": "ipython",
    "version": 3
   },
   "file_extension": ".py",
   "mimetype": "text/x-python",
   "name": "python",
   "nbconvert_exporter": "python",
   "pygments_lexer": "ipython3",
   "version": "3.11.4"
  },
  "orig_nbformat": 4
 },
 "nbformat": 4,
 "nbformat_minor": 2
}
