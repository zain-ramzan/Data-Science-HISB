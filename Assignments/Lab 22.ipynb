{
 "cells": [
  {
   "cell_type": "markdown",
   "id": "81039135-2db3-4f56-a3f1-98eb5932db7f",
   "metadata": {},
   "source": [
    "<h1 style=\"text-align: center\"> Lab 22 Task: Python Library (Pandas) </h1>"
   ]
  },
  {
   "cell_type": "code",
   "execution_count": 5,
   "id": "81ef0afa-9240-498d-86dd-0314324e2352",
   "metadata": {},
   "outputs": [],
   "source": [
    "import numpy as np\n",
    "import pandas as pd"
   ]
  },
  {
   "cell_type": "markdown",
   "id": "67a4b6f7-76e3-4433-9265-727af80e21f7",
   "metadata": {},
   "source": [
    "#### Load [Dataset URL](https://archive.ics.uci.edu/ml/machine-learning-databases/wine/wine.data) to a dataframe named wine_df such that column names is not taken from first row of data"
   ]
  },
  {
   "cell_type": "code",
   "execution_count": 6,
   "id": "c6d9d908-57be-4742-9a87-0f9afb2e1f02",
   "metadata": {},
   "outputs": [],
   "source": [
    "url = \"https://archive.ics.uci.edu/ml/machine-learning-databases/wine/wine.data\"\n",
    "wine_df = pd.read_csv(url, header=None)"
   ]
  },
  {
   "cell_type": "markdown",
   "id": "87437206-997c-4125-b8f4-0539e94d5efe",
   "metadata": {},
   "source": [
    "#### Display first 5 rows of the DataFrame"
   ]
  },
  {
   "cell_type": "code",
   "execution_count": 7,
   "id": "40959443-eb1a-470d-b82f-97b910a295b4",
   "metadata": {},
   "outputs": [
    {
     "name": "stdout",
     "output_type": "stream",
     "text": [
      "   0      1     2     3     4    5     6     7     8     9     10    11    12  \\\n",
      "0   1  14.23  1.71  2.43  15.6  127  2.80  3.06  0.28  2.29  5.64  1.04  3.92   \n",
      "1   1  13.20  1.78  2.14  11.2  100  2.65  2.76  0.26  1.28  4.38  1.05  3.40   \n",
      "2   1  13.16  2.36  2.67  18.6  101  2.80  3.24  0.30  2.81  5.68  1.03  3.17   \n",
      "3   1  14.37  1.95  2.50  16.8  113  3.85  3.49  0.24  2.18  7.80  0.86  3.45   \n",
      "4   1  13.24  2.59  2.87  21.0  118  2.80  2.69  0.39  1.82  4.32  1.04  2.93   \n",
      "\n",
      "     13  \n",
      "0  1065  \n",
      "1  1050  \n",
      "2  1185  \n",
      "3  1480  \n",
      "4   735  \n"
     ]
    }
   ],
   "source": [
    "print(wine_df.head(5))\n"
   ]
  },
  {
   "cell_type": "markdown",
   "id": "61575879-f835-44af-aeaf-638f4851c4de",
   "metadata": {},
   "source": [
    "#### Assign wine_df to a different variable wine_df_copy and delete all odd rows of wine_df_copy"
   ]
  },
  {
   "cell_type": "code",
   "execution_count": 8,
   "id": "d22e9f06-3e28-4e48-bd30-f922cfa67350",
   "metadata": {},
   "outputs": [],
   "source": [
    "wine_df_copy = wine_df.copy()\n",
    "wine_df_copy = wine_df_copy[::2]\n"
   ]
  },
  {
   "cell_type": "markdown",
   "id": "e0e9c26b-e978-4d3c-b653-2a541bd37082",
   "metadata": {},
   "source": [
    "#### Assign the column names as below:\n",
    "1) Class\n",
    "2) Alcohol  \n",
    "3) Malic acid  \n",
    "4) Ash  \n",
    "5) Alcalinity of ash  \n",
    "6) Magnesium  \n",
    "7) Total phenols  \n",
    "8) Flavanoids  \n",
    "9) Nonflavanoid phenols  \n",
    "10) Proanthocyanins  \n",
    "11) Color intensity  \n",
    "12) Hue  \n",
    "13) OD280/OD315 of diluted wines  \n",
    "14) Proline"
   ]
  },
  {
   "cell_type": "code",
   "execution_count": 9,
   "id": "92e493ff-06f2-416a-9bd5-f9f171b85c6e",
   "metadata": {},
   "outputs": [],
   "source": [
    "column_names = [\n",
    "    \"Class\", \"Alcohol\", \"Malic acid\", \"Ash\", \"Alcalinity of ash\", \"Magnesium\",\n",
    "    \"Total phenols\", \"Flavanoids\", \"Nonflavanoid phenols\", \"Proanthocyanins\",\n",
    "    \"Color intensity\", \"Hue\", \"OD280/OD315 of diluted wines\", \"Proline\"\n",
    "]\n",
    "wine_df.columns = column_names\n"
   ]
  },
  {
   "cell_type": "markdown",
   "id": "89980436-f7dd-4a59-86de-4b367ab3b94d",
   "metadata": {},
   "source": [
    "#### Set the values of the first 3 rows from Alchol as NaN"
   ]
  },
  {
   "cell_type": "code",
   "execution_count": 10,
   "id": "772f0876-aafd-4b53-8ad0-04c1b35d978d",
   "metadata": {},
   "outputs": [],
   "source": [
    "wine_df.loc[:2, \"Alcohol\"] = np.nan\n"
   ]
  },
  {
   "cell_type": "markdown",
   "id": "440901ae-2784-460f-8cf3-9bdf509ffb9f",
   "metadata": {},
   "source": [
    "####  How many nan values do we have?"
   ]
  },
  {
   "cell_type": "code",
   "execution_count": 11,
   "id": "da2c2f49-20e2-4236-901b-bd4d77bd90d7",
   "metadata": {},
   "outputs": [
    {
     "name": "stdout",
     "output_type": "stream",
     "text": [
      "3\n"
     ]
    }
   ],
   "source": [
    "nan_count = wine_df.isna().sum().sum()\n",
    "print(nan_count)\n"
   ]
  },
  {
   "cell_type": "markdown",
   "id": "1a4e1b92-adde-4b5e-87a3-a31d6447a141",
   "metadata": {},
   "source": [
    "#### Delete the rows that contain missing values using dropna function"
   ]
  },
  {
   "cell_type": "code",
   "execution_count": 12,
   "id": "215b055c-f3ba-4f00-a497-c404c8c04678",
   "metadata": {},
   "outputs": [],
   "source": [
    "wine_df = wine_df.dropna(axis=0)\n"
   ]
  }
 ],
 "metadata": {
  "kernelspec": {
   "display_name": "Python 3 (ipykernel)",
   "language": "python",
   "name": "python3"
  },
  "language_info": {
   "codemirror_mode": {
    "name": "ipython",
    "version": 3
   },
   "file_extension": ".py",
   "mimetype": "text/x-python",
   "name": "python",
   "nbconvert_exporter": "python",
   "pygments_lexer": "ipython3",
   "version": "3.11.4"
  }
 },
 "nbformat": 4,
 "nbformat_minor": 5
}
