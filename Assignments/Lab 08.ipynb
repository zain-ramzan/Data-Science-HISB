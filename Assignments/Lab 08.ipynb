{
 "cells": [
  {
   "cell_type": "markdown",
   "metadata": {},
   "source": [
    "Task 1: Slicing 1D Arrays\n"
   ]
  },
  {
   "cell_type": "code",
   "execution_count": 2,
   "metadata": {},
   "outputs": [
    {
     "name": "stdout",
     "output_type": "stream",
     "text": [
      "[ 1  2  3  4  5  6  7  8  9 10]\n",
      "[1 2 3 4 5]\n",
      "[ 8  9 10]\n",
      "[1 3 5 7 9]\n",
      "[3 4 5 6 7 8]\n"
     ]
    }
   ],
   "source": [
    "import numpy as np\n",
    "# Create a 1D array of integers\n",
    "array_1d = np.array([1, 2, 3, 4, 5, 6, 7, 8, 9, 10])\n",
    "\n",
    "# Print the entire array\n",
    "print(array_1d)\n",
    "\n",
    "# Slice the array to obtain the first half of the elements\n",
    "first_half = array_1d[:len(array_1d)//2]\n",
    "\n",
    "# Slice the array to obtain the last three elements\n",
    "last_three = array_1d[-3:]\n",
    "\n",
    "# Slice the array to obtain every second element\n",
    "every_second = array_1d[::2]\n",
    "\n",
    "# Slice the array to obtain elements from index 2 to index 7\n",
    "index_2_to_7 = array_1d[2:8]\n",
    "\n",
    "# Print the sliced arrays obtained in steps 3, 4, 5, and 6\n",
    "print(first_half)\n",
    "print(last_three)\n",
    "print(every_second)\n",
    "print(index_2_to_7)\n"
   ]
  },
  {
   "cell_type": "markdown",
   "metadata": {},
   "source": [
    "Task 2: Slicing 2D Arrays\n"
   ]
  },
  {
   "cell_type": "code",
   "execution_count": 3,
   "metadata": {},
   "outputs": [
    {
     "name": "stdout",
     "output_type": "stream",
     "text": [
      "[[1 2 3]\n",
      " [4 5 6]\n",
      " [7 8 9]]\n",
      "[1 2 3]\n",
      "[3 6 9]\n",
      "[[2 3]\n",
      " [5 6]]\n",
      "[[4 5]\n",
      " [7 8]]\n"
     ]
    }
   ],
   "source": [
    "# Create a 2D array of integers\n",
    "array_2d = np.array([[1, 2, 3], [4, 5, 6], [7, 8, 9]])\n",
    "\n",
    "# Print the entire array\n",
    "print(array_2d)\n",
    "\n",
    "# Slice the array to obtain the first row\n",
    "first_row = array_2d[0]\n",
    "\n",
    "# Slice the array to obtain the last column\n",
    "last_column = array_2d[:, -1]\n",
    "\n",
    "# Slice the array to obtain a subarray consisting of the first two rows and last two columns\n",
    "subarray_1 = array_2d[:2, -2:]\n",
    "\n",
    "# Slice the array to obtain a subarray consisting of the last two rows and first two columns\n",
    "subarray_2 = array_2d[-2:, :2]\n",
    "\n",
    "# Print the sliced arrays obtained in steps 3, 4, 5, and 6\n",
    "print(first_row)\n",
    "print(last_column)\n",
    "print(subarray_1)\n",
    "print(subarray_2)\n"
   ]
  },
  {
   "cell_type": "markdown",
   "metadata": {},
   "source": [
    "Task 3: Slicing 3D Arrays\n"
   ]
  },
  {
   "cell_type": "code",
   "execution_count": 4,
   "metadata": {},
   "outputs": [
    {
     "name": "stdout",
     "output_type": "stream",
     "text": [
      "[[[1 2]\n",
      "  [3 4]]\n",
      "\n",
      " [[5 6]\n",
      "  [7 8]]]\n",
      "[[1 2]\n",
      " [3 4]]\n",
      "[[5 6]\n",
      " [7 8]]\n",
      "[[[1 2]\n",
      "  [3 4]]\n",
      "\n",
      " [[5 6]\n",
      "  [7 8]]]\n",
      "[[[1 2]\n",
      "  [3 4]]\n",
      "\n",
      " [[5 6]\n",
      "  [7 8]]]\n"
     ]
    }
   ],
   "source": [
    "# Create a 3D array of integers\n",
    "array_3d = np.array([[[1, 2], [3, 4]], [[5, 6], [7, 8]]])\n",
    "\n",
    "# Print the entire array\n",
    "print(array_3d)\n",
    "\n",
    "# Slice the array to obtain the first 2D array (2D slice) along the third dimension\n",
    "first_2d_slice = array_3d[0]\n",
    "\n",
    "# Slice the array to obtain the second 2D array (2D slice) along the third dimension\n",
    "second_2d_slice = array_3d[1]\n",
    "\n",
    "# Slice the array to obtain a subarray consisting of the first two 2D arrays along the third dimension\n",
    "subarray_1 = array_3d[:2]\n",
    "\n",
    "# Slice the array to obtain a subarray consisting of the last two 2D arrays along the third dimension\n",
    "subarray_2 = array_3d[-2:]\n",
    "\n",
    "# Print the sliced arrays obtained in steps 3, 4, 5, and 6\n",
    "print(first_2d_slice)\n",
    "print(second_2d_slice)\n",
    "print(subarray_1)\n",
    "print(subarray_2)\n"
   ]
  },
  {
   "cell_type": "markdown",
   "metadata": {},
   "source": [
    "Task 4: Slicing Higher Order Data\n"
   ]
  },
  {
   "cell_type": "code",
   "execution_count": 5,
   "metadata": {},
   "outputs": [
    {
     "name": "stdout",
     "output_type": "stream",
     "text": [
      "[[[[ 1  2]\n",
      "   [ 3  4]]\n",
      "\n",
      "  [[ 5  6]\n",
      "   [ 7  8]]]\n",
      "\n",
      "\n",
      " [[[ 9 10]\n",
      "   [11 12]]\n",
      "\n",
      "  [[13 14]\n",
      "   [15 16]]]]\n",
      "[[[[1 2]\n",
      "   [3 4]]\n",
      "\n",
      "  [[5 6]\n",
      "   [7 8]]]]\n",
      "[[[ 2  4]\n",
      "  [ 6  8]]\n",
      "\n",
      " [[10 12]\n",
      "  [14 16]]]\n",
      "[[[[ 1  2]\n",
      "   [ 3  4]]]\n",
      "\n",
      "\n",
      " [[[ 9 10]\n",
      "   [11 12]]]]\n",
      "[]\n"
     ]
    }
   ],
   "source": [
    "# Create a higher order data structure (e.g., a 4D array or a nested list)\n",
    "higher_order_data = np.array([[[[1, 2], [3, 4]], [[5, 6], [7, 8]]], [[[9, 10], [11, 12]], [[13, 14], [15, 16]]]])\n",
    "\n",
    "# Print the entire data structure\n",
    "print(higher_order_data)\n",
    "\n",
    "# Slice the data structure to obtain a substructure consisting of the first half along the first dimension\n",
    "substructure_1 = higher_order_data[:higher_order_data.shape[0]//2]\n",
    "\n",
    "# Slice the data structure to obtain a substructure consisting of the last element along the last dimension\n",
    "substructure_2 = higher_order_data[..., -1]\n",
    "\n",
    "# Slice the data structure to obtain a substructure consisting of every second element along the second dimension\n",
    "substructure_3 = higher_order_data[:, ::2]\n",
    "\n",
    "# Slice the data structure to obtain a substructure consisting of elements from index 2 to index 7 along the third dimension\n",
    "substructure_4 = higher_order_data[..., 2:8]\n",
    "\n",
    "# Print the sliced substructures obtained in steps 3, 4, 5, and 6\n",
    "print(substructure_1)\n",
    "print(substructure_2)\n",
    "print(substructure_3)\n",
    "print(substructure_4)\n"
   ]
  },
  {
   "cell_type": "code",
   "execution_count": null,
   "metadata": {},
   "outputs": [],
   "source": []
  }
 ],
 "metadata": {
  "kernelspec": {
   "display_name": "base",
   "language": "python",
   "name": "python3"
  },
  "language_info": {
   "codemirror_mode": {
    "name": "ipython",
    "version": 3
   },
   "file_extension": ".py",
   "mimetype": "text/x-python",
   "name": "python",
   "nbconvert_exporter": "python",
   "pygments_lexer": "ipython3",
   "version": "3.11.4"
  },
  "orig_nbformat": 4
 },
 "nbformat": 4,
 "nbformat_minor": 2
}
