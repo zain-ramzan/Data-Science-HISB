{
 "cells": [
  {
   "cell_type": "markdown",
   "metadata": {},
   "source": [
    "# Lab 14 - Zain Ramzan"
   ]
  },
  {
   "cell_type": "code",
   "execution_count": 1,
   "metadata": {},
   "outputs": [],
   "source": [
    "# Task 1\n",
    "def calculate_shipping(country, weight):\n",
    "    if country == \"USA\" and weight <= 1:\n",
    "        return 10\n",
    "    elif country == \"USA\" and weight > 1:\n",
    "        return 20\n",
    "    elif country == \"Canada\" and weight <= 1:\n",
    "        return 15\n",
    "    elif country == \"Canada\" and weight > 1:\n",
    "        return 25\n",
    "    else:\n",
    "        return 50"
   ]
  },
  {
   "cell_type": "code",
   "execution_count": 2,
   "metadata": {},
   "outputs": [
    {
     "name": "stdout",
     "output_type": "stream",
     "text": [
      "Shipping cost: 50\n"
     ]
    }
   ],
   "source": [
    "# Test the function\n",
    "country = input(\"Enter the country: \")\n",
    "weight = float(input(\"Enter the weight in kg: \"))\n",
    "shipping_cost = calculate_shipping(country, weight)\n",
    "print(\"Shipping cost:\", shipping_cost)"
   ]
  },
  {
   "cell_type": "code",
   "execution_count": 3,
   "metadata": {},
   "outputs": [],
   "source": [
    "# Task 2\n",
    "def validate_password(password):\n",
    "    if len(password) < 8:\n",
    "        return False\n",
    "\n",
    "    has_uppercase = False\n",
    "    has_lowercase = False\n",
    "    has_digit = False\n",
    "\n",
    "    for char in password:\n",
    "        if char.isupper():\n",
    "            has_uppercase = True\n",
    "        elif char.islower():\n",
    "            has_lowercase = True\n",
    "        elif char.isdigit():\n",
    "            has_digit = True\n",
    "\n",
    "    return has_uppercase and has_lowercase and has_digit"
   ]
  },
  {
   "cell_type": "code",
   "execution_count": 4,
   "metadata": {},
   "outputs": [
    {
     "name": "stdout",
     "output_type": "stream",
     "text": [
      "Invalid password.\n"
     ]
    }
   ],
   "source": [
    "# Test the function\n",
    "password = input(\"Enter the password: \")\n",
    "is_valid_password = validate_password(password)\n",
    "\n",
    "if is_valid_password:\n",
    "    print(\"Valid password.\")\n",
    "else:\n",
    "    print(\"Invalid password.\")"
   ]
  },
  {
   "cell_type": "code",
   "execution_count": 5,
   "metadata": {},
   "outputs": [
    {
     "name": "stdout",
     "output_type": "stream",
     "text": [
      "Total Pay: 40.0\n"
     ]
    }
   ],
   "source": [
    "# Task 3\n",
    "def computepay(hours, rate_per_hour):\n",
    "    if hours <= 40:\n",
    "        pay = hours * rate_per_hour\n",
    "    else:\n",
    "        overtime_hours = hours - 40\n",
    "        overtime_rate = rate_per_hour * 1.5\n",
    "        pay = (40 * rate_per_hour) + (overtime_hours * overtime_rate)\n",
    "    return pay\n",
    "\n",
    "# Test the function\n",
    "hours = float(input(\"Enter the number of hours worked: \"))\n",
    "rate_per_hour = float(input(\"Enter the rate per hour: \"))\n",
    "\n",
    "total_pay = computepay(hours, rate_per_hour)\n",
    "print(\"Total Pay:\", total_pay)"
   ]
  },
  {
   "cell_type": "code",
   "execution_count": null,
   "metadata": {},
   "outputs": [],
   "source": []
  }
 ],
 "metadata": {
  "kernelspec": {
   "display_name": "base",
   "language": "python",
   "name": "python3"
  },
  "language_info": {
   "codemirror_mode": {
    "name": "ipython",
    "version": 3
   },
   "file_extension": ".py",
   "mimetype": "text/x-python",
   "name": "python",
   "nbconvert_exporter": "python",
   "pygments_lexer": "ipython3",
   "version": "3.11.4"
  },
  "orig_nbformat": 4
 },
 "nbformat": 4,
 "nbformat_minor": 2
}
