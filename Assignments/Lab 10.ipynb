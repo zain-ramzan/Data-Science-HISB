{
 "cells": [
  {
   "cell_type": "markdown",
   "metadata": {},
   "source": [
    "# Lab 10 - Zain Ramzan"
   ]
  },
  {
   "cell_type": "markdown",
   "metadata": {},
   "source": [
    "1. To write Python code that takes two numbers from the user and returns their sum, subtraction, product, and division, you can use the following code:"
   ]
  },
  {
   "cell_type": "code",
   "execution_count": 1,
   "metadata": {},
   "outputs": [
    {
     "name": "stdout",
     "output_type": "stream",
     "text": [
      "Sum: 30.0\n",
      "Subtraction: -10.0\n",
      "Product: 200.0\n",
      "Division: 0.5\n"
     ]
    }
   ],
   "source": [
    "num1 = float(input(\"Enter the first number: \"))\n",
    "num2 = float(input(\"Enter the second number: \"))\n",
    "\n",
    "sum = num1 + num2\n",
    "subtraction = num1 - num2\n",
    "product = num1 * num2\n",
    "division = num1 / num2\n",
    "\n",
    "print(\"Sum:\", sum)\n",
    "print(\"Subtraction:\", subtraction)\n",
    "print(\"Product:\", product)\n",
    "print(\"Division:\", division)"
   ]
  },
  {
   "cell_type": "markdown",
   "metadata": {},
   "source": [
    "### Important Note:\n",
    "2. To write Python code in Jupyter Notebook that reads a text file and prints all its content, you can use the following code:"
   ]
  },
  {
   "cell_type": "code",
   "execution_count": 4,
   "metadata": {},
   "outputs": [
    {
     "name": "stdout",
     "output_type": "stream",
     "text": [
      "Hi,\n",
      "\n",
      "My name is Zain Ramzan.\n",
      "\n",
      "Always be Happy!\n"
     ]
    }
   ],
   "source": [
    "file_path = \"./Lab 10_text file.txt\"\n",
    "\n",
    "with open(file_path, \"r\") as file:\n",
    "    content = file.read()\n",
    "    print(content)"
   ]
  },
  {
   "cell_type": "markdown",
   "metadata": {},
   "source": [
    "3. To write a program that prompts the user for a Celsius temperature, converts the temperature to Fahrenheit, and prints out the converted temperature, you can use the following code:"
   ]
  },
  {
   "cell_type": "code",
   "execution_count": 5,
   "metadata": {},
   "outputs": [
    {
     "name": "stdout",
     "output_type": "stream",
     "text": [
      "Temperature in Fahrenheit: 212.0\n"
     ]
    }
   ],
   "source": [
    "celsius = float(input(\"Enter the temperature in Celsius: \"))\n",
    "\n",
    "fahrenheit = (celsius * 9/5) + 32\n",
    "\n",
    "print(\"Temperature in Fahrenheit:\", fahrenheit)"
   ]
  }
 ],
 "metadata": {
  "kernelspec": {
   "display_name": "base",
   "language": "python",
   "name": "python3"
  },
  "language_info": {
   "codemirror_mode": {
    "name": "ipython",
    "version": 3
   },
   "file_extension": ".py",
   "mimetype": "text/x-python",
   "name": "python",
   "nbconvert_exporter": "python",
   "pygments_lexer": "ipython3",
   "version": "3.11.4"
  },
  "orig_nbformat": 4
 },
 "nbformat": 4,
 "nbformat_minor": 2
}
